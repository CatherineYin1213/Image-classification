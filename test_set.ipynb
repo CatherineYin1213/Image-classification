{
 "cells": [
  {
   "cell_type": "code",
   "execution_count": 1,
   "id": "2574ad1a",
   "metadata": {},
   "outputs": [
    {
     "name": "stdout",
     "output_type": "stream",
     "text": [
      "Images have been saved to testset picture\n"
     ]
    }
   ],
   "source": [
    "import pickle\n",
    "import numpy as np\n",
    "from PIL import Image\n",
    "\n",
    "def load_cifar10_batch(cifar10_dataset_folder_path):\n",
    "    \"\"\"\n",
    "    This function loads the test batch of the CIFAR-10 dataset.\n",
    "    \"\"\"\n",
    "    with open(cifar10_dataset_folder_path + '/test_batch', mode='rb') as file:\n",
    "        batch = pickle.load(file, encoding='latin1')\n",
    "    \n",
    "    features = batch['data'].reshape((len(batch['data']), 3, 32, 32)).transpose(0, 2, 3, 1)\n",
    "    labels = batch['labels']\n",
    "    return features, labels\n",
    "\n",
    "def save_images(images, labels, classes, output_dir):\n",
    "    \"\"\"\n",
    "    This function saves images into the specified directory with their class name as the filename.\n",
    "    \"\"\"\n",
    "    for i, (image, label) in enumerate(zip(images, labels)):\n",
    "        img = Image.fromarray(image.astype('uint8'))\n",
    "        class_name = classes[label]\n",
    "        filename = f\"{output_dir}/{class_name}_{i}.png\"\n",
    "        img.save(filename)\n",
    "\n",
    "# Define the CIFAR-10 classes\n",
    "classes = ['airplane', 'automobile', 'bird', 'cat', 'deer', 'dog', 'frog', 'horse', 'ship', 'truck']\n",
    "\n",
    "# Path to the CIFAR-10 data\n",
    "cifar10_dir = 'cifar-10-batches-py'\n",
    "output_dir = 'testset picture'\n",
    "\n",
    "# Ensure output directory exists\n",
    "import os\n",
    "if not os.path.exists(output_dir):\n",
    "    os.makedirs(output_dir)\n",
    "\n",
    "# Load a batch of images\n",
    "images, labels = load_cifar10_batch(cifar10_dir)\n",
    "\n",
    "# Save images\n",
    "save_images(images, labels, classes, output_dir)\n",
    "\n",
    "print(\"Images have been saved to\", output_dir)\n"
   ]
  },
  {
   "cell_type": "code",
   "execution_count": null,
   "id": "1dc4c95e",
   "metadata": {},
   "outputs": [],
   "source": []
  }
 ],
 "metadata": {
  "kernelspec": {
   "display_name": "Python 3 (ipykernel)",
   "language": "python",
   "name": "python3"
  },
  "language_info": {
   "codemirror_mode": {
    "name": "ipython",
    "version": 3
   },
   "file_extension": ".py",
   "mimetype": "text/x-python",
   "name": "python",
   "nbconvert_exporter": "python",
   "pygments_lexer": "ipython3",
   "version": "3.9.12"
  }
 },
 "nbformat": 4,
 "nbformat_minor": 5
}
